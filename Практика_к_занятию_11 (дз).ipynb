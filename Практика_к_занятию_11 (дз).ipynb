{
  "cells": [
    {
      "cell_type": "markdown",
      "metadata": {
        "id": "pDrecLU-4QjS"
      },
      "source": [
        "# Практика"
      ]
    },
    {
      "cell_type": "markdown",
      "metadata": {
        "id": "gUvTNDlMaV-a"
      },
      "source": [
        "## Определение вероятности. События\n",
        "\n",
        "Требуется сгенерировать необходимые выборки и произвести по ним расчеты"
      ]
    },
    {
      "cell_type": "markdown",
      "metadata": {
        "id": "5V70InEBTgup"
      },
      "source": [
        "### Задача 1\n",
        "Брошено две монеты. Найти вероятность того, что монеты выпали разными сторонами"
      ]
    },
    {
      "cell_type": "code",
      "execution_count": 1,
      "metadata": {
        "id": "88Iw-SL3jYQV"
      },
      "outputs": [],
      "source": [
        "import pandas as pd\n",
        "import numpy as np\n",
        "import matplotlib.pyplot as plt\n",
        "import scipy.stats as sts\n",
        "import random"
      ]
    },
    {
      "cell_type": "code",
      "source": [
        "n = 1000000\n",
        "df = pd.DataFrame(columns = [\"coin1\", \"coin2\"])\n",
        "coin1 = sts.bernoulli(.5) # Бернули для монеты 1\n",
        "coin2 = sts.bernoulli(.5) # Бернули для монеты 2\n",
        "df[\"coin1\"] = coin1.rvs(n) \n",
        "df[\"coin2\"] = coin2.rvs(n)\n",
        "p = len(df[df[\"coin1\"]!=df[\"coin2\"]])/df.shape[0]\n",
        "p #=вероятность того, что монеты выпали разными сторонами "
      ],
      "metadata": {
        "id": "C405AB0ZW7MG",
        "outputId": "1521e29f-c4aa-48a9-841b-1901e9548abd",
        "colab": {
          "base_uri": "https://localhost:8080/"
        }
      },
      "execution_count": 2,
      "outputs": [
        {
          "output_type": "execute_result",
          "data": {
            "text/plain": [
              "0.500383"
            ]
          },
          "metadata": {},
          "execution_count": 2
        }
      ]
    },
    {
      "cell_type": "markdown",
      "metadata": {
        "id": "t0XOMos2Tl0e"
      },
      "source": [
        "### Задача 2\n",
        "Брошено три монеты. Описать множество всех элементарных событий. Найти вероятности следующих событий:\n",
        "\n",
        "\n",
        "1.   A = {не выпало ни одного герба}\n",
        "2.   B = {выпало четное число гербов}\n",
        "3.   C = {на третьей монете выпал герб}\n"
      ]
    },
    {
      "cell_type": "code",
      "execution_count": null,
      "metadata": {
        "id": "o7NjAE9uUo-L",
        "outputId": "82482a1a-431d-42d3-c7c5-449096443752",
        "colab": {
          "base_uri": "https://localhost:8080/"
        }
      },
      "outputs": [
        {
          "output_type": "stream",
          "name": "stdout",
          "text": [
            "       o1  o2  o3\n",
            "0       1   1   1\n",
            "1       0   1   0\n",
            "2       0   0   0\n",
            "3       0   0   1\n",
            "4       1   0   0\n",
            "...    ..  ..  ..\n",
            "99995   1   0   0\n",
            "99996   0   0   1\n",
            "99997   0   0   1\n",
            "99998   1   1   1\n",
            "99999   1   1   1\n",
            "\n",
            "[100000 rows x 3 columns]\n",
            "не выпало ни одного герба 0.12526\n",
            "выпало четное число гербов 0.37172\n",
            "на третьей монете выпал герб 0.49935\n"
          ]
        }
      ],
      "source": [
        "n = 100000\n",
        "bernoulli_rv1 = sts.bernoulli(0.5)\n",
        "bernoulli_rv2 = sts.bernoulli(0.5)\n",
        "bernoulli_rv3 = sts.bernoulli(0.5)\n",
        "b1 = bernoulli_rv1.rvs(n)\n",
        "b2 = bernoulli_rv2.rvs(n)\n",
        "b3 = bernoulli_rv3.rvs(n)\n",
        "\n",
        "df = pd.DataFrame (zip(b1, b2, b3), columns = [\"o1\",\"o2\",\"o3\" ])\n",
        "print (df)\n",
        "print ('не выпало ни одного герба', df [(df.o1 != 0) & (df.o2 != 0) & (df.o3 != 0)].shape[0]/n)\n",
        "print ('выпало четное число гербов', df [df.o1 + df.o2 + df.o3 == 1].shape[0]/n)\n",
        "print ('на третьей монете выпал герб', df [(df.o3 == 0)].shape[0]/n)"
      ]
    },
    {
      "cell_type": "markdown",
      "metadata": {
        "id": "iRMOoqeaWxpu"
      },
      "source": [
        "Предлагается также решить задачи: \n",
        "\n",
        "### Задача 3\n",
        "Из двух претендентов E и L на ответственную должность три члена комиссии должны отобрать одного. Каждый член комиссии должен указать либо одного достойного, либо забраковать обоих. Претендент считается выбранным, если он был признана достойным хотя бы двумя членами комиссии.\n",
        "Найти вероятность событий:\n",
        "\n",
        "A = {рекомендован L}, B = {рекомендован E}\n"
      ]
    },
    {
      "cell_type": "code",
      "execution_count": 4,
      "metadata": {
        "id": "PV8smcwJWxpu",
        "outputId": "78bcbfa2-6b84-4687-c293-f3564d65ba82",
        "colab": {
          "base_uri": "https://localhost:8080/"
        }
      },
      "outputs": [
        {
          "output_type": "stream",
          "name": "stdout",
          "text": [
            "1\n",
            "1\n",
            "   E  L\n",
            "0  0  0\n",
            "1  1  0\n",
            "2  0  1\n",
            "рекомендован L 0.6666666666666666\n",
            "рекомендован E 0.6666666666666666\n"
          ]
        }
      ],
      "source": [
        "#варианты выбора:\n",
        "a = [[0,1], [1,0], [0,0], [0,1], [1,0], [0,0]]\n",
        "c= random.choices(a, k=3)\n",
        "\n",
        "#есть три вероятности событий: рекомендован L,рекомендован E, заблокированы оба \n",
        "n = 3\n",
        "df = pd.DataFrame(c, columns = [\"E\",\"L\" ])\n",
        "L = np.count_nonzero(df[\"L\"])\n",
        "E = np.count_nonzero(df[\"E\"])\n",
        "print (L)\n",
        "print (E)\n",
        "\n",
        "print (df)\n",
        "print ('рекомендован L', df [(df.L >=2)].shape[1]/n)\n",
        "print ('рекомендован E', df [(df.E >=2)].shape[1]/n)"
      ]
    },
    {
      "cell_type": "markdown",
      "metadata": {
        "id": "peM38mVfYa5B"
      },
      "source": [
        "### Задача 4\n",
        "Брошено две игральных кости. Описать множество элементарных событий. Найти вероятности событий:\n",
        "\n",
        "A = {вышло две \"шестерки\"}\n",
        "\n",
        "B = {сумма выпавших очков не меньше 11}\n",
        "\n",
        "C = {не выпала ни одна \"шестерка\"}"
      ]
    },
    {
      "cell_type": "code",
      "execution_count": 6,
      "metadata": {
        "id": "CWmOsqCsWxpv",
        "colab": {
          "base_uri": "https://localhost:8080/"
        },
        "outputId": "c719fccd-747c-4593-e1c7-e54764f07007"
      },
      "outputs": [
        {
          "output_type": "stream",
          "name": "stdout",
          "text": [
            "        cub1  cub2\n",
            "0          5     3\n",
            "1          2     1\n",
            "2          5     4\n",
            "3          1     6\n",
            "4          3     4\n",
            "...      ...   ...\n",
            "499995     2     4\n",
            "499996     5     2\n",
            "499997     3     3\n",
            "499998     4     3\n",
            "499999     6     3\n",
            "\n",
            "[500000 rows x 2 columns]\n",
            "вышло две \"шестерки\" 0.027558\n",
            "сумма выпавших очков не меньше 11 0.083136\n",
            "не выпала ни одна \"шестерка\" 0.695454\n"
          ]
        }
      ],
      "source": [
        "n=500000\n",
        "values1 = []\n",
        "values2 = []\n",
        "\n",
        "for x in range(n):\n",
        "    values1.append (np.random.randint(1, 7))\n",
        "    values2.append (np.random.randint(1, 7))\n",
        "         \n",
        "df = pd.DataFrame(zip(values1, values2 ),columns = [\"cub1\",\"cub2\"] ) \n",
        "\n",
        "print (df)\n",
        "\n",
        "print ('вышло две \"шестерки\"', df [((df.cub1 ==6)&(df.cub2 ==6))].shape[0]/n)\n",
        "print ('сумма выпавших очков не меньше 11', df [((df.cub1 + df.cub2)>=11)].shape[0]/n)\n",
        "print ('не выпала ни одна \"шестерка\"', df [(df.cub1 != 6)&(df.cub2 != 6) ].shape[0]/n)"
      ]
    },
    {
      "cell_type": "markdown",
      "metadata": {
        "id": "f-Bi0p8haclB"
      },
      "source": [
        "## Вероятность суммы событий"
      ]
    },
    {
      "cell_type": "markdown",
      "metadata": {
        "id": "g7A7QlvGTnwZ"
      },
      "source": [
        "### Задача 5\n",
        "Брошены две игральные кости. Найти вероятность события D = {выпала хотя бы одна шестёрка}\n"
      ]
    },
    {
      "cell_type": "code",
      "execution_count": 7,
      "metadata": {
        "id": "vjtTJN-kUp9D",
        "colab": {
          "base_uri": "https://localhost:8080/"
        },
        "outputId": "7f07d85d-084c-41ff-8972-9ab1e46868e2"
      },
      "outputs": [
        {
          "output_type": "stream",
          "name": "stdout",
          "text": [
            "      cub1  cub2\n",
            "0        1     5\n",
            "1        1     3\n",
            "2        4     4\n",
            "3        5     3\n",
            "4        6     4\n",
            "...    ...   ...\n",
            "9995     4     6\n",
            "9996     4     3\n",
            "9997     4     4\n",
            "9998     1     1\n",
            "9999     2     6\n",
            "\n",
            "[10000 rows x 2 columns]\n",
            "выпала хотя бы одна шестёрка 0.3045\n"
          ]
        }
      ],
      "source": [
        "n=10000\n",
        "values1 = []\n",
        "values2 = []\n",
        "\n",
        "for x in range(n):\n",
        "    values1.append (np.random.randint(1, 7))\n",
        "    values2.append (np.random.randint(1, 7))\n",
        "         \n",
        "df = pd.DataFrame(zip(values1, values2 ),columns = [\"cub1\",\"cub2\"] ) \n",
        "\n",
        "print (df)\n",
        "\n",
        "print ('выпала хотя бы одна шестёрка',\\\n",
        "       df [((df.cub1 ==6)&(df.cub2 !=6))|((df.cub1 !=6)&(df.cub2 ==6))|((df.cub1 ==6)&(df.cub2 ==6)) ].shape[0]/n)"
      ]
    },
    {
      "cell_type": "markdown",
      "metadata": {
        "id": "R1bYSzQQbC6I"
      },
      "source": [
        "Предлагается также решить задачи: \n",
        "\n",
        "### Задача 6\n",
        "В телефонном номере три последние цифры стерлись. Считая, что все возможные значения стершихся цифр равновероятны, найти вероятность событий:\n",
        "\n",
        "A = {Стерлись различные цифры},\n",
        "\n",
        "B = {Стерлись одинаковые цифры},\n",
        "\n",
        "C = {Среди стершихся цифр хотя бы две совпадают},\n",
        "\n",
        "D = {Среди стершихся цифр хотя бы две различны}\n"
      ]
    },
    {
      "cell_type": "code",
      "execution_count": 8,
      "metadata": {
        "id": "sdpd0DfcWxpw",
        "colab": {
          "base_uri": "https://localhost:8080/"
        },
        "outputId": "d1597457-c3f3-4752-d538-4ab52a5f5f02"
      },
      "outputs": [
        {
          "output_type": "stream",
          "name": "stdout",
          "text": [
            "       num1  num2  num3\n",
            "0         9     3     2\n",
            "1         9     5     3\n",
            "2         7     1     3\n",
            "3         5     8     6\n",
            "4         0     0     5\n",
            "...     ...   ...   ...\n",
            "99995     4     2     6\n",
            "99996     5     5     7\n",
            "99997     8     3     3\n",
            "99998     4     5     8\n",
            "99999     3     3     6\n",
            "\n",
            "[100000 rows x 3 columns]\n",
            "Стерлись различные цифры 0.71956\n",
            "Стерлись одинаковые цифры 0.00973\n",
            "Среди стершихся цифр хотя бы две совпадают 0.28044\n",
            "Среди стершихся цифр хотя бы две различны 0.99027\n"
          ]
        }
      ],
      "source": [
        "n=100000\n",
        "num1 = []\n",
        "num2 = []\n",
        "num3 = []\n",
        "\n",
        "for x in range(n):\n",
        "    num1.append (np.random.randint(0, 10))\n",
        "    num2.append (np.random.randint(0, 10))\n",
        "    num3.append (np.random.randint(0, 10))    \n",
        "df = pd.DataFrame(zip(num1, num2, num3 ), columns = [\"num1\",\"num2\", \"num3\"] ) \n",
        "\n",
        "print (df)\n",
        "\n",
        "print ('Стерлись различные цифры',\\\n",
        "       df [(df.num1 != df.num2)& (df.num1 != df.num3)& (df.num2 != df.num3)].shape[0]/n)\n",
        "print ('Стерлись одинаковые цифры',\\\n",
        "       df [(df.num1 == df.num2)& (df.num1 == df.num3)& (df.num2 == df.num3)].shape[0]/n )\n",
        "print ('Среди стершихся цифр хотя бы две совпадают',\\\n",
        "       df [(df.num1 == df.num2)|(df.num1 == df.num3)|(df.num2 == df.num3)].shape[0]/n )\n",
        "print ('Среди стершихся цифр хотя бы две различны',\\\n",
        "       df [(df.num1 != df.num2)| (df.num1 != df.num3)|(df.num2 != df.num3)].shape[0]/n )"
      ]
    },
    {
      "cell_type": "markdown",
      "metadata": {
        "id": "RnugkR8BalK_"
      },
      "source": [
        "## Случайные величины"
      ]
    },
    {
      "cell_type": "markdown",
      "metadata": {
        "id": "yLoZDZ17UVsp"
      },
      "source": [
        "### Задача 7\n",
        "В лотерее имеется 10 билетов, из которых один выигрышный. Размер выигрыша 10 ден. ед.; стоимость билета 1 ден ед. Найти закон распределения случайной величины X, равной чистому выигрышу участника лотереи, который вытаскивает билет первым."
      ]
    },
    {
      "cell_type": "code",
      "execution_count": 10,
      "metadata": {
        "id": "oNk432sKUqzT"
      },
      "outputs": [],
      "source": []
    },
    {
      "cell_type": "markdown",
      "metadata": {
        "id": "U-NK9liSbpvb"
      },
      "source": [
        "Предлагается также решить задачу: \n",
        "\n",
        "### Задача 8\n",
        "Брошены две игральные кости. Найти закон распределения случайной величины $X$, равной сумме выпавших очков. Найти вероятности событий ${X <= 4}$, ${X > 4}$"
      ]
    },
    {
      "cell_type": "code",
      "execution_count": 11,
      "metadata": {
        "id": "-GTF3tJtWxpx",
        "colab": {
          "base_uri": "https://localhost:8080/"
        },
        "outputId": "260d10ea-79f3-4b44-c315-ca95fb0e5e02"
      },
      "outputs": [
        {
          "output_type": "stream",
          "name": "stdout",
          "text": [
            "       0\n",
            "0      3\n",
            "1     11\n",
            "2      7\n",
            "3     12\n",
            "4      3\n",
            "...   ..\n",
            "9995  11\n",
            "9996   9\n",
            "9997   6\n",
            "9998   3\n",
            "9999   9\n",
            "\n",
            "[10000 rows x 1 columns]\n",
            "вероятности событий  𝑋<=4  0.171\n",
            "вероятности событий  𝑋>4  0.829\n"
          ]
        }
      ],
      "source": [
        "n=10000\n",
        "values = []\n",
        "for x in range(n):\n",
        "    values.append(np.random.randint(1, 7) + np.random.randint(1, 7))\n",
        "df = pd.DataFrame(values) \n",
        "\n",
        "print(df)\n",
        "print ('вероятности событий  𝑋<=4 ', df [df[0] <= 4 ].shape[0]/n)\n",
        "print ('вероятности событий  𝑋>4 ', df [df[0] > 4 ].shape[0]/n)"
      ]
    },
    {
      "cell_type": "markdown",
      "metadata": {
        "id": "shgW4D83awjK"
      },
      "source": [
        "## Условные вероятности"
      ]
    },
    {
      "cell_type": "markdown",
      "metadata": {
        "id": "Fbu1RFZwWZrk"
      },
      "source": [
        "### Задача 9\n",
        "Из колоды (36 карт) вынимают последовательно без возвращения две карты. Найти вероятность того, что первой картой была шестерка, а второй — семерка. Найти условную вероятность того же события при условии, что обе карты бубновой масти.\n"
      ]
    },
    {
      "cell_type": "code",
      "execution_count": 13,
      "metadata": {
        "id": "037o56awW9-E",
        "colab": {
          "base_uri": "https://localhost:8080/"
        },
        "outputId": "8c1b8cae-5e1d-4547-dc30-31de16ae5bfb"
      },
      "outputs": [
        {
          "output_type": "stream",
          "name": "stdout",
          "text": [
            "0.05714285714285714\n"
          ]
        }
      ],
      "source": [
        "#В колоде 9 карт бубновой масти, поэтому сначала вероятность = 9/36, затем 8/35, нужно умножить их, чтобы расчитать \n",
        "#вероятность вытянуть их друг за другом\n",
        "\n",
        "n1 = 36\n",
        "k1= 9\n",
        "P1 = k1 / n1\n",
        "\n",
        "n2 = 35\n",
        "k2 = 8\n",
        "P2 = k2 / n2\n",
        "\n",
        "p = P1 * P2\n",
        "print(p)"
      ]
    },
    {
      "cell_type": "markdown",
      "metadata": {
        "id": "hNVxtaz5c57b"
      },
      "source": [
        "Предлагается также решить задачу: \n",
        "\n",
        "### Задача 10\n",
        "Из урны, содержащей два белых и три черных шара, последовательно извлекают два шара; вынутые шары не возвращаются. Если первый шар оказался черным, то перед вторым извлечением в урну добавляют белый шар. В противном случае состав оставшихся шаров не меняют. Найти вероятности событий:\n",
        "\n",
        "$A$ = {извлечены два белых шара},\n",
        "\n",
        "$B$ = {извлечены два черных шара}\n",
        "\n",
        "Указание. Пусть событие $C_1$ = {первый шар белый}, событие $C_2$ = {второй шар белый}. Тогда $A = C_1C_2$, $B = \\overline C_1 \\overline C_2$ "
      ]
    },
    {
      "cell_type": "code",
      "execution_count": null,
      "metadata": {
        "id": "WSLnhk2sdBt_"
      },
      "outputs": [],
      "source": []
    }
  ],
  "metadata": {
    "colab": {
      "provenance": []
    },
    "kernelspec": {
      "display_name": "Python 3",
      "language": "python",
      "name": "python3"
    },
    "language_info": {
      "codemirror_mode": {
        "name": "ipython",
        "version": 3
      },
      "file_extension": ".py",
      "mimetype": "text/x-python",
      "name": "python",
      "nbconvert_exporter": "python",
      "pygments_lexer": "ipython3",
      "version": "3.7.6"
    }
  },
  "nbformat": 4,
  "nbformat_minor": 0
}