{
  "cells": [
    {
      "cell_type": "markdown",
      "metadata": {
        "id": "pDrecLU-4QjS"
      },
      "source": [
        "# Практика"
      ]
    },
    {
      "cell_type": "markdown",
      "metadata": {
        "id": "gUvTNDlMaV-a"
      },
      "source": [
        "## Определение вероятности. События\n",
        "\n",
        "Требуется сгенерировать необходимые выборки и произвести по ним расчеты"
      ]
    },
    {
      "cell_type": "markdown",
      "metadata": {
        "id": "5V70InEBTgup"
      },
      "source": [
        "### Задача 1\n",
        "Брошено две монеты. Найти вероятность того, что монеты выпали разными сторонами"
      ]
    },
    {
      "cell_type": "code",
      "execution_count": 1,
      "metadata": {
        "id": "88Iw-SL3jYQV"
      },
      "outputs": [],
      "source": [
        "import pandas as pd\n",
        "import numpy as np\n",
        "import matplotlib.pyplot as plt\n",
        "import scipy.stats as sts\n",
        "import random"
      ]
    },
    {
      "cell_type": "code",
      "source": [
        "n = 1000000\n",
        "df = pd.DataFrame(columns = [\"coin1\", \"coin2\"])\n",
        "coin1 = sts.bernoulli(.5) # Бернули для монеты 1\n",
        "coin2 = sts.bernoulli(.5) # Бернули для монеты 2\n",
        "df[\"coin1\"] = coin1.rvs(n) \n",
        "df[\"coin2\"] = coin2.rvs(n)\n",
        "p = len(df[df[\"coin1\"]!=df[\"coin2\"]])/df.shape[0]\n",
        "p #=вероятность того, что монеты выпали разными сторонами "
      ],
      "metadata": {
        "id": "C405AB0ZW7MG",
        "outputId": "f162af54-69a5-4e6b-bd25-a50be9bd5617",
        "colab": {
          "base_uri": "https://localhost:8080/"
        }
      },
      "execution_count": 2,
      "outputs": [
        {
          "output_type": "execute_result",
          "data": {
            "text/plain": [
              "0.501057"
            ]
          },
          "metadata": {},
          "execution_count": 2
        }
      ]
    },
    {
      "cell_type": "markdown",
      "metadata": {
        "id": "t0XOMos2Tl0e"
      },
      "source": [
        "### Задача 2\n",
        "Брошено три монеты. Описать множество всех элементарных событий. Найти вероятности следующих событий:\n",
        "\n",
        "\n",
        "1.   A = {не выпало ни одного герба}\n",
        "2.   B = {выпало четное число гербов}\n",
        "3.   C = {на третьей монете выпал герб}\n"
      ]
    },
    {
      "cell_type": "code",
      "execution_count": 4,
      "metadata": {
        "id": "o7NjAE9uUo-L",
        "outputId": "7903de6a-c9aa-4d39-9562-e1b0622e5660",
        "colab": {
          "base_uri": "https://localhost:8080/"
        }
      },
      "outputs": [
        {
          "output_type": "stream",
          "name": "stdout",
          "text": [
            "вероятность, не выпало ни одного герба A = 0.12365\n",
            "вероятность, выпало четное число гербов B = 0.37735\n",
            "вероятность, на третьей монете выпал герб C = 0.50124\n",
            "\n",
            "Возможные варианты событий: \n",
            " [0 0 0 0 1 1 1 1] \n",
            " [0 0 1 1 0 0 1 1] \n",
            " [0 1 0 1 0 1 0 1]\n"
          ]
        }
      ],
      "source": [
        "#количество подбрасывания 3х монет\n",
        "# 0 - Орел, 1 - Решка\n",
        "N = 100000\n",
        "count_A = 0\n",
        "count_B = 0\n",
        "count_C = 0\n",
        "B1 = [random.choice(range(0,2)) for i in range(N)] #подбрасывание первой монеты\n",
        "B2 = [random.choice(range(0,2)) for i in range(N)] #подбрасывание второй монеты\n",
        "B3 = [random.choice(range(0,2)) for i in range(N)] #подбрасывание третьей монеты\n",
        "#Создаем цикл и проверяем условия\n",
        "for i in range(N):\n",
        "  if B1[i]== 1 and B2[i]==1 and B3[i]==1: #все Решка\n",
        "    count_A += 1 #прибавляем в событие А\n",
        "  if (B1[i]==0 and B2[i]==0 and B3[i]==1) or (B1[i]==0 and B3[i]==0 and B2[i]==1) or (B2[i]== 0 and B3[i]==0 and B1[i]==1):\n",
        "    count_B += 1 #прибавляем в событие В\n",
        "  if B3[i] == 0:\n",
        "    count_C += 1 #прибавляем в событие С\n",
        "\n",
        "#print(count_A,'\\n',count_B,'\\n',count_C)\n",
        "print('вероятность, не выпало ни одного герба A =', count_A/N)\n",
        "print('вероятность, выпало четное число гербов B =', count_B/N)\n",
        "print('вероятность, на третьей монете выпал герб C =', count_C/N)\n",
        "all_var = np.unique([B1, B2, B3], axis=1)\n",
        "print('\\nВозможные варианты событий: \\n', all_var[0],'\\n', all_var[1], '\\n', all_var[2])"
      ]
    },
    {
      "cell_type": "markdown",
      "metadata": {
        "id": "iRMOoqeaWxpu"
      },
      "source": [
        "Предлагается также решить задачи: \n",
        "\n",
        "### Задача 3\n",
        "Из двух претендентов E и L на ответственную должность три члена комиссии должны отобрать одного. Каждый член комиссии должен указать либо одного достойного, либо забраковать обоих. Претендент считается выбранным, если он был признана достойным хотя бы двумя членами комиссии.\n",
        "Найти вероятность событий:\n",
        "\n",
        "A = {рекомендован L}, B = {рекомендован E}\n"
      ]
    },
    {
      "cell_type": "code",
      "execution_count": 5,
      "metadata": {
        "id": "PV8smcwJWxpu",
        "outputId": "83270ddf-fcd2-4c3f-fba3-e0034f220296",
        "colab": {
          "base_uri": "https://localhost:8080/"
        }
      },
      "outputs": [
        {
          "output_type": "stream",
          "name": "stdout",
          "text": [
            "вероятность, рекомендован L = 0.25855\n",
            "вероятность, рекомендован E = 0.26025\n"
          ]
        }
      ],
      "source": [
        "#число испытаний\n",
        "N = 100000\n",
        "E = 0\n",
        "L = 0\n",
        "# каждый член комисии может поставить 0 1 или 2\n",
        "# 1 - рекомендован Е\n",
        "# 2 - рекомендован L \n",
        "# 0 - ни кто не рекомендован\n",
        "B1 = [random.choice(range(0,3)) for i in range(N)]\n",
        "B2 = [random.choice(range(0,3)) for i in range(N)]\n",
        "B3 = [random.choice(range(0,3)) for i in range(N)]\n",
        "#делаем цикл и сравниваем \n",
        "for i in range(N):\n",
        "  if (B1[i]==1 and B2[i]==1) or (B1[i]==1 and B3[i]==1) or (B2[i]==1 and B3[i]==1):\n",
        "    E += 1\n",
        "  if (B1[i]== 2 and B2[i]==2) or (B1[i]==2 and B3[i]==2) or (B2[i]==2 and B3[i]==2):\n",
        "    L += 1\n",
        "print('вероятность, рекомендован L =', E/N)\n",
        "print('вероятность, рекомендован E =', L/N)"
      ]
    },
    {
      "cell_type": "markdown",
      "metadata": {
        "id": "peM38mVfYa5B"
      },
      "source": [
        "### Задача 4\n",
        "Брошено две игральных кости. Описать множество элементарных событий. Найти вероятности событий:\n",
        "\n",
        "A = {вышло две \"шестерки\"}\n",
        "\n",
        "B = {сумма выпавших очков не меньше 11}\n",
        "\n",
        "C = {не выпала ни одна \"шестерка\"}"
      ]
    },
    {
      "cell_type": "code",
      "execution_count": 6,
      "metadata": {
        "id": "CWmOsqCsWxpv",
        "colab": {
          "base_uri": "https://localhost:8080/"
        },
        "outputId": "6b8a6cf7-e3b4-49b2-fa31-017d6f4289bf"
      },
      "outputs": [
        {
          "output_type": "stream",
          "name": "stdout",
          "text": [
            "вероятность, вышло две \"шестерки\" = 0.02799\n",
            "вероятность, сумма выпавших очков не меньше = 0.08264\n",
            "вероятность, не выпала ни одна \"шестерка\" 0.69599\n",
            "\n",
            "Возможные варианты событий: \n",
            " [1 1 1 1 1 1 2 2 2 2 2 2 3 3 3 3 3 3 4 4 4 4 4 4 5 5 5 5 5 5 6 6 6 6 6 6] \n",
            " [1 2 3 4 5 6 1 2 3 4 5 6 1 2 3 4 5 6 1 2 3 4 5 6 1 2 3 4 5 6 1 2 3 4 5 6]\n"
          ]
        }
      ],
      "source": [
        "#число испытаний\n",
        "N = 100000\n",
        "A=0\n",
        "B=0\n",
        "C=0\n",
        "dice1 = [random.choice(range(1,7)) for i in range(N)] #выпавшее число на первом кубике\n",
        "dice2 = [random.choice(range(1,7)) for i in range(N)] #выпавшее число на втором кубике\n",
        "#делаем цикл и сравниваем \n",
        "for i in range(N):\n",
        "    if dice1[i]==6 and dice2[i] ==6:\n",
        "        A+=1\n",
        "    if dice1[i]+dice2[i] >=11:\n",
        "        B+=1\n",
        "    if dice1[i]!=6 and dice2[i]!=6:\n",
        "        C+=1\n",
        "#print(A,'\\n',B,'\\n',C)\n",
        "print('вероятность, вышло две \"шестерки\" =', A/N)\n",
        "print('вероятность, сумма выпавших очков не меньше =', B/N)\n",
        "print('вероятность, не выпала ни одна \"шестерка\"', C/N)\n",
        "all_var = np.unique([dice1, dice2], axis=1)\n",
        "print('\\nВозможные варианты событий: \\n', all_var[0],'\\n', all_var[1])"
      ]
    },
    {
      "cell_type": "markdown",
      "metadata": {
        "id": "f-Bi0p8haclB"
      },
      "source": [
        "## Вероятность суммы событий"
      ]
    },
    {
      "cell_type": "markdown",
      "metadata": {
        "id": "g7A7QlvGTnwZ"
      },
      "source": [
        "### Задача 5\n",
        "Брошены две игральные кости. Найти вероятность события D = {выпала хотя бы одна шестёрка}\n"
      ]
    },
    {
      "cell_type": "code",
      "execution_count": null,
      "metadata": {
        "id": "vjtTJN-kUp9D",
        "colab": {
          "base_uri": "https://localhost:8080/"
        },
        "outputId": "7f07d85d-084c-41ff-8972-9ab1e46868e2"
      },
      "outputs": [
        {
          "output_type": "stream",
          "name": "stdout",
          "text": [
            "      cub1  cub2\n",
            "0        1     5\n",
            "1        1     3\n",
            "2        4     4\n",
            "3        5     3\n",
            "4        6     4\n",
            "...    ...   ...\n",
            "9995     4     6\n",
            "9996     4     3\n",
            "9997     4     4\n",
            "9998     1     1\n",
            "9999     2     6\n",
            "\n",
            "[10000 rows x 2 columns]\n",
            "выпала хотя бы одна шестёрка 0.3045\n"
          ]
        }
      ],
      "source": [
        "n=10000\n",
        "values1 = []\n",
        "values2 = []\n",
        "\n",
        "for x in range(n):\n",
        "    values1.append (np.random.randint(1, 7))\n",
        "    values2.append (np.random.randint(1, 7))\n",
        "         \n",
        "df = pd.DataFrame(zip(values1, values2 ),columns = [\"cub1\",\"cub2\"] ) \n",
        "\n",
        "print (df)\n",
        "\n",
        "print ('выпала хотя бы одна шестёрка',\\\n",
        "       df [((df.cub1 ==6)&(df.cub2 !=6))|((df.cub1 !=6)&(df.cub2 ==6))|((df.cub1 ==6)&(df.cub2 ==6)) ].shape[0]/n)"
      ]
    },
    {
      "cell_type": "markdown",
      "metadata": {
        "id": "R1bYSzQQbC6I"
      },
      "source": [
        "Предлагается также решить задачи: \n",
        "\n",
        "### Задача 6\n",
        "В телефонном номере три последние цифры стерлись. Считая, что все возможные значения стершихся цифр равновероятны, найти вероятность событий:\n",
        "\n",
        "A = {Стерлись различные цифры},\n",
        "\n",
        "B = {Стерлись одинаковые цифры},\n",
        "\n",
        "C = {Среди стершихся цифр хотя бы две совпадают},\n",
        "\n",
        "D = {Среди стершихся цифр хотя бы две различны}\n"
      ]
    },
    {
      "cell_type": "code",
      "execution_count": null,
      "metadata": {
        "id": "sdpd0DfcWxpw",
        "colab": {
          "base_uri": "https://localhost:8080/"
        },
        "outputId": "d1597457-c3f3-4752-d538-4ab52a5f5f02"
      },
      "outputs": [
        {
          "output_type": "stream",
          "name": "stdout",
          "text": [
            "       num1  num2  num3\n",
            "0         9     3     2\n",
            "1         9     5     3\n",
            "2         7     1     3\n",
            "3         5     8     6\n",
            "4         0     0     5\n",
            "...     ...   ...   ...\n",
            "99995     4     2     6\n",
            "99996     5     5     7\n",
            "99997     8     3     3\n",
            "99998     4     5     8\n",
            "99999     3     3     6\n",
            "\n",
            "[100000 rows x 3 columns]\n",
            "Стерлись различные цифры 0.71956\n",
            "Стерлись одинаковые цифры 0.00973\n",
            "Среди стершихся цифр хотя бы две совпадают 0.28044\n",
            "Среди стершихся цифр хотя бы две различны 0.99027\n"
          ]
        }
      ],
      "source": [
        "n=100000\n",
        "num1 = []\n",
        "num2 = []\n",
        "num3 = []\n",
        "\n",
        "for x in range(n):\n",
        "    num1.append (np.random.randint(0, 10))\n",
        "    num2.append (np.random.randint(0, 10))\n",
        "    num3.append (np.random.randint(0, 10))    \n",
        "df = pd.DataFrame(zip(num1, num2, num3 ), columns = [\"num1\",\"num2\", \"num3\"] ) \n",
        "\n",
        "print (df)\n",
        "\n",
        "print ('Стерлись различные цифры',\\\n",
        "       df [(df.num1 != df.num2)& (df.num1 != df.num3)& (df.num2 != df.num3)].shape[0]/n)\n",
        "print ('Стерлись одинаковые цифры',\\\n",
        "       df [(df.num1 == df.num2)& (df.num1 == df.num3)& (df.num2 == df.num3)].shape[0]/n )\n",
        "print ('Среди стершихся цифр хотя бы две совпадают',\\\n",
        "       df [(df.num1 == df.num2)|(df.num1 == df.num3)|(df.num2 == df.num3)].shape[0]/n )\n",
        "print ('Среди стершихся цифр хотя бы две различны',\\\n",
        "       df [(df.num1 != df.num2)| (df.num1 != df.num3)|(df.num2 != df.num3)].shape[0]/n )"
      ]
    },
    {
      "cell_type": "markdown",
      "metadata": {
        "id": "RnugkR8BalK_"
      },
      "source": [
        "## Случайные величины"
      ]
    },
    {
      "cell_type": "markdown",
      "metadata": {
        "id": "yLoZDZ17UVsp"
      },
      "source": [
        "### Задача 7\n",
        "В лотерее имеется 10 билетов, из которых один выигрышный. Размер выигрыша 10 ден. ед.; стоимость билета 1 ден ед. Найти закон распределения случайной величины X, равной чистому выигрышу участника лотереи, который вытаскивает билет первым."
      ]
    },
    {
      "cell_type": "code",
      "execution_count": null,
      "metadata": {
        "id": "oNk432sKUqzT"
      },
      "outputs": [],
      "source": []
    },
    {
      "cell_type": "markdown",
      "metadata": {
        "id": "U-NK9liSbpvb"
      },
      "source": [
        "Предлагается также решить задачу: \n",
        "\n",
        "### Задача 8\n",
        "Брошены две игральные кости. Найти закон распределения случайной величины $X$, равной сумме выпавших очков. Найти вероятности событий ${X <= 4}$, ${X > 4}$"
      ]
    },
    {
      "cell_type": "code",
      "execution_count": null,
      "metadata": {
        "id": "-GTF3tJtWxpx",
        "colab": {
          "base_uri": "https://localhost:8080/"
        },
        "outputId": "260d10ea-79f3-4b44-c315-ca95fb0e5e02"
      },
      "outputs": [
        {
          "output_type": "stream",
          "name": "stdout",
          "text": [
            "       0\n",
            "0      3\n",
            "1     11\n",
            "2      7\n",
            "3     12\n",
            "4      3\n",
            "...   ..\n",
            "9995  11\n",
            "9996   9\n",
            "9997   6\n",
            "9998   3\n",
            "9999   9\n",
            "\n",
            "[10000 rows x 1 columns]\n",
            "вероятности событий  𝑋<=4  0.171\n",
            "вероятности событий  𝑋>4  0.829\n"
          ]
        }
      ],
      "source": [
        "n=10000\n",
        "values = []\n",
        "for x in range(n):\n",
        "    values.append(np.random.randint(1, 7) + np.random.randint(1, 7))\n",
        "df = pd.DataFrame(values) \n",
        "\n",
        "print(df)\n",
        "print ('вероятности событий  𝑋<=4 ', df [df[0] <= 4 ].shape[0]/n)\n",
        "print ('вероятности событий  𝑋>4 ', df [df[0] > 4 ].shape[0]/n)"
      ]
    },
    {
      "cell_type": "markdown",
      "metadata": {
        "id": "shgW4D83awjK"
      },
      "source": [
        "## Условные вероятности"
      ]
    },
    {
      "cell_type": "markdown",
      "metadata": {
        "id": "Fbu1RFZwWZrk"
      },
      "source": [
        "### Задача 9\n",
        "Из колоды (36 карт) вынимают последовательно без возвращения две карты. Найти вероятность того, что первой картой была шестерка, а второй — семерка. Найти условную вероятность того же события при условии, что обе карты бубновой масти.\n"
      ]
    },
    {
      "cell_type": "code",
      "execution_count": 7,
      "metadata": {
        "id": "037o56awW9-E",
        "colab": {
          "base_uri": "https://localhost:8080/"
        },
        "outputId": "efb4684a-12ea-499d-faa3-6190006076cf"
      },
      "outputs": [
        {
          "output_type": "execute_result",
          "data": {
            "text/plain": [
              "36"
            ]
          },
          "metadata": {},
          "execution_count": 7
        }
      ],
      "source": [
        "#Создадим колоду\n",
        "suit = ['Бубны', 'Червы', 'Трефы', 'Пики']\n",
        "card = ['6', '7', '8', '9', '10', 'Валет', 'Дама', 'Король', 'Туз']\n",
        "cards = []\n",
        "for i in range(len(card)):\n",
        "  cards.append(f'{card[i]} {suit[0]}')\n",
        "  cards.append(f'{card[i]} {suit[1]}')\n",
        "  cards.append(f'{card[i]} {suit[2]}')\n",
        "  cards.append(f'{card[i]} {suit[3]}')\n",
        "len(cards)"
      ]
    },
    {
      "cell_type": "code",
      "source": [
        "N=100000\n",
        "A=0 \n",
        "B=0\n",
        "C=0\n",
        "# создаем цикл\n",
        "i=0\n",
        "while i<N:\n",
        "    i+=1\n",
        "    cards_old=cards.copy()\n",
        "    x1=random.choice(cards) # тянем первую карту\n",
        "    cards_old.remove(x1)\n",
        "    cards_new = cards_old.copy()\n",
        "    x2=random.choice(cards_new) # тянем вторую карту\n",
        "    if x1.startswith('6')==True and x2.startswith('7')==True: # проверяем что первая карта 6 и втроая 7 \n",
        "        #и считаем число таких исходов\n",
        "        A+=1\n",
        "    \n",
        "    # найдем количество события В\n",
        "    if x1.endswith('Бубны')==True and x2.endswith('Бубны')==True:\n",
        "        B+=1\n",
        "    #Найдем вероятность что первой картой была 6,а второй — 7 \n",
        "    #при условии, что обе карты бубновой масти\n",
        "    if x1=='6 Бубны' and x2=='7 Бубны':\n",
        "        C+=1\n",
        "\n",
        "#\n",
        "#print(A,B)\n",
        "print('Вероятность события что первой картой была 6, а второй — 7 =', A/N)\n",
        "print('Вероятность события  обе карты бубновой масти =', B/N)\n",
        "#Услованя вероятность это отношнние вероятностьей АВ по отношение к вероятности В\n",
        "#В нашем случаии это событие С когда 6 и 7 бубны\n",
        "P=(C/N)#/(B/N)\n",
        "print(\"\"\"Услованя вероятность что первой картой была шестерка,\n",
        "а второй — семерка при условии, что обе карты бубновой масти =\"\"\", P)"
      ],
      "metadata": {
        "colab": {
          "base_uri": "https://localhost:8080/"
        },
        "id": "jiikN8vdr55y",
        "outputId": "dd32b156-87d1-4680-9f94-0bfc22fe7c3e"
      },
      "execution_count": 9,
      "outputs": [
        {
          "output_type": "stream",
          "name": "stdout",
          "text": [
            "Вероятность события что первой картой была 6, а второй — 7 = 0.01272\n",
            "Вероятность события  обе карты бубновой масти = 0.0571\n",
            "Услованя вероятность что первой картой была шестерка,\n",
            "а второй — семерка при условии, что обе карты бубновой масти = 0.00081\n"
          ]
        }
      ]
    },
    {
      "cell_type": "markdown",
      "metadata": {
        "id": "hNVxtaz5c57b"
      },
      "source": [
        "Предлагается также решить задачу: \n",
        "\n",
        "### Задача 10\n",
        "Из урны, содержащей два белых и три черных шара, последовательно извлекают два шара; вынутые шары не возвращаются. Если первый шар оказался черным, то перед вторым извлечением в урну добавляют белый шар. В противном случае состав оставшихся шаров не меняют. Найти вероятности событий:\n",
        "\n",
        "$A$ = {извлечены два белых шара},\n",
        "\n",
        "$B$ = {извлечены два черных шара}\n",
        "\n",
        "Указание. Пусть событие $C_1$ = {первый шар белый}, событие $C_2$ = {второй шар белый}. Тогда $A = C_1C_2$, $B = \\overline C_1 \\overline C_2$ "
      ]
    },
    {
      "cell_type": "code",
      "execution_count": null,
      "metadata": {
        "id": "WSLnhk2sdBt_"
      },
      "outputs": [],
      "source": []
    }
  ],
  "metadata": {
    "colab": {
      "provenance": []
    },
    "kernelspec": {
      "display_name": "Python 3",
      "language": "python",
      "name": "python3"
    },
    "language_info": {
      "codemirror_mode": {
        "name": "ipython",
        "version": 3
      },
      "file_extension": ".py",
      "mimetype": "text/x-python",
      "name": "python",
      "nbconvert_exporter": "python",
      "pygments_lexer": "ipython3",
      "version": "3.7.6"
    }
  },
  "nbformat": 4,
  "nbformat_minor": 0
}